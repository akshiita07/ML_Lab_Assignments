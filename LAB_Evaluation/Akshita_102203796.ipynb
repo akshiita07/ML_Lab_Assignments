{
  "nbformat": 4,
  "nbformat_minor": 0,
  "metadata": {
    "colab": {
      "provenance": []
    },
    "kernelspec": {
      "name": "python3",
      "display_name": "Python 3"
    },
    "language_info": {
      "name": "python"
    }
  },
  "cells": [
    {
      "cell_type": "code",
      "execution_count": 2,
      "metadata": {
        "colab": {
          "base_uri": "https://localhost:8080/"
        },
        "id": "JJJveUlPwr4y",
        "outputId": "7ecb830e-73e3-4cf2-e3c5-12d1a085dc9d"
      },
      "outputs": [
        {
          "output_type": "stream",
          "name": "stdout",
          "text": [
            "Task completed. Results saved in 'model_results.json'.\n"
          ]
        }
      ],
      "source": [
        "import pandas as pd\n",
        "from sklearn.model_selection import train_test_split\n",
        "from sklearn.ensemble import RandomForestRegressor\n",
        "from sklearn.linear_model import LinearRegression\n",
        "from sklearn.svm import SVR\n",
        "from sklearn.metrics import mean_squared_error, r2_score\n",
        "import json\n",
        "\n",
        "# Load the dataset\n",
        "data = pd.read_csv(\"/content/Fuel_cell_performance_data-Full.csv\")\n",
        "\n",
        "# Select Target2 for my roll number ending with 6 and drop other targets\n",
        "data = data.drop(columns=['Target1', 'Target3', 'Target4', 'Target5'])\n",
        "\n",
        "# Define features and target\n",
        "X = data.drop(columns=['Target2'])\n",
        "y = data['Target2']\n",
        "\n",
        "# Split the data into 70% training and 30% testing\n",
        "X_train, X_test, y_train, y_test = train_test_split(X, y, test_size=0.3, random_state=42)\n",
        "\n",
        "# Initialize models\n",
        "models = {\n",
        "    \"Linear Regression\": LinearRegression(),\n",
        "    \"Random Forest\": RandomForestRegressor(random_state=42),\n",
        "    \"Support Vector Regressor\": SVR()\n",
        "}\n",
        "\n",
        "# Dictionary to store results\n",
        "results = {}\n",
        "\n",
        "# Train and evaluate each model\n",
        "for model_name, model in models.items():\n",
        "    # Train the model\n",
        "    model.fit(X_train, y_train)\n",
        "\n",
        "    # Make predictions\n",
        "    y_pred = model.predict(X_test)\n",
        "\n",
        "    # Evaluate the model\n",
        "    mse = mean_squared_error(y_test, y_pred)\n",
        "    r2 = r2_score(y_test, y_pred)\n",
        "\n",
        "    # Store the results\n",
        "    results[model_name] = {\n",
        "        \"Mean Squared Error\": mse,\n",
        "        \"R-squared\": r2\n",
        "    }\n",
        "\n",
        "# Save the results to a JSON file\n",
        "with open(\"model_results.json\", \"w\") as f:\n",
        "    json.dump(results, f, indent=4)\n",
        "\n",
        "print(\"Task completed. Results saved in 'model_results.json'.\")\n"
      ]
    }
  ]
}
